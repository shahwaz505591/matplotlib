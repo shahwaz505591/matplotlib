{
 "cells": [
  {
   "cell_type": "markdown",
   "id": "51294110-73d2-42d7-bedc-37f0b5a9f82e",
   "metadata": {},
   "source": [
    "Q1: What is Matplotlib? Why is it used? Name five plots that can be plotted using the Pyplot module of\n",
    "Matplotlib.\n",
    "Ans:\n",
    "    Matplotlib is a comprehensive data visualization library in Python used to create static, interactive, and animated plots. It provides a wide range of high-quality, customizable plots for visualizing data in various formats, making it an essential tool for data scientists, researchers, and analysts.\n",
    "\n",
    "The Pyplot module within Matplotlib provides a MATLAB-like interface for creating a variety of plots. Here are five types of plots that can be created using Matplotlib's Pyplot module:\n",
    "\n",
    "Line Plot: Line plots are created using the plt.plot() function to display data points connected by straight line segments. These are useful for visualizing trends over continuous variables.\n",
    "\n",
    "Bar Plot: Bar plots are generated using the plt.bar() function to represent categorical data with rectangular bars. They're great for comparing different groups.\n",
    "\n",
    "Histogram: Matplotlib's plt.hist() function is used to create histograms, which display the distribution of a single numerical variable by dividing the data into bins and displaying the frequency of observations in each bin.\n",
    "\n",
    "Scatter Plot: Scatter plots, made with plt.scatter(), display individual data points as dots on a 2D plane. They're useful for visualizing relationships between two numerical variables."
   ]
  },
  {
   "cell_type": "markdown",
   "id": "be207989-f299-4e6f-b9f2-b08e688bde80",
   "metadata": {},
   "source": [
    "Q2: What is a scatter plot? Use the following code to generate data for x and y. Using this generated data\n",
    "plot a scatter plot.\n",
    "import numpy as np\n",
    "np.random.seed(3)\n",
    "x = 3 + np.random.normal(0, 2, 50)\n",
    "y = 3 + np.random.normal(0, 2, len(x))\n",
    "Note: Also add title, xlabel, and ylabel to the plot.\n",
    "Ans:\n",
    "    A scatter plot is a type of data visualization that displays individual data points on a two-dimensional graph. It represents the relationship between two variables by positioning a dot or marker for each observation according to its values for the two variables.\n",
    "\n",
    "In a scatter plot:\n",
    "\n",
    "X-axis represents one variable (often referred to as the independent variable or predictor).\n",
    "Y-axis represents the other variable (often the dependent variable or response).\n",
    "Each data point on the plot is a representation of the values of these two variables. Scatter plots are particularly useful for identifying relationships or patterns between the variables. \n",
    "    \n",
    "    code:\n",
    "    import numpy as np\n",
    "import matplotlib.pyplot as plt\n",
    "np.random.seed(3)\n",
    "x = 3 + np.random.normal(0, 2, 50)\n",
    "y = 3 + np.random.normal(0, 2, len(x))\n",
    "plt.xlabel('x axis data')\n",
    "plt.ylabel('y axis data')\n",
    "plt.title('title of the graph')\n",
    "plt.scatter(x,y)\n",
    "plt.show()"
   ]
  },
  {
   "cell_type": "markdown",
   "id": "964d6994-06cc-4e49-b513-f983cf0081e0",
   "metadata": {},
   "source": [
    "import numpy as np\n",
    "import matplotlib.pyplot as plt\n",
    "np.random.seed(3)\n",
    "x = 3 + np.random.normal(0, 2, 50)\n",
    "y = 3 + np.random.normal(0, 2, len(x))\n",
    "plt.xlabel('x axis data')\n",
    "plt.ylabel('y axis data')\n",
    "plt.title('title of the graph')\n",
    "plt.scatter(x,y)\n",
    "plt.show()\n"
   ]
  },
  {
   "cell_type": "code",
   "execution_count": null,
   "id": "e0e11de4-b79c-4f62-a0a1-58908b8b9515",
   "metadata": {},
   "outputs": [],
   "source": [
    "Q3: Why is the subplot() function used? Draw four line plots using the subplot() function.\n",
    "Use the following data:\n",
    "import numpy as np\n",
    "For line 1: x = np.array([0, 1, 2, 3, 4, 5]) and y = np.array([0, 100, 200, 300, 400, 500])\n",
    "For line 2: x = np.array([0, 1, 2, 3, 4, 5]) and y = np.array([50, 20, 40, 20, 60, 70])\n",
    "For line 3: x = np.array([0, 1, 2, 3, 4, 5]) and y = np.array([10, 20, 30, 40, 50, 60])\n",
    "For line 4: x = np.array([0, 1, 2, 3, 4, 5]) and y = np.array([200, 350, 250, 550, 450, 150])\n",
    "Ans:\n",
    "    The subplot() function in Matplotlib is used to create multiple plots within the same figure. It allows you to divide the figure into a grid of rows and columns and specify where within that grid a plot should be placed. This function is helpful for creating multiple plots or visualizations in a single figure, making it easier to compare different datasets or aspects of the same data.\n",
    "    \n",
    "    code:\n",
    "        import numpy as np\n",
    "        import matplotlib.pyplot as plt\n",
    "         x = np.array([0, 1, 2, 3, 4, 5]) and y = np.array([0, 100, 200, 300, 400, 500])\n",
    "            fig=plt.figure()\n",
    "ax=fig.add_subplot(projection ='line')\n",
    "ax.scatter(x,y)\n",
    "plt.show()\n",
    "        "
   ]
  },
  {
   "cell_type": "code",
   "execution_count": 23,
   "id": "acc0b53e-c0c1-46bc-919d-8958798882d7",
   "metadata": {},
   "outputs": [
    {
     "ename": "ValueError",
     "evalue": "Unknown projection 'line'",
     "output_type": "error",
     "traceback": [
      "\u001b[0;31m---------------------------------------------------------------------------\u001b[0m",
      "\u001b[0;31mKeyError\u001b[0m                                  Traceback (most recent call last)",
      "File \u001b[0;32m/opt/conda/lib/python3.10/site-packages/matplotlib/projections/__init__.py:108\u001b[0m, in \u001b[0;36mget_projection_class\u001b[0;34m(projection)\u001b[0m\n\u001b[1;32m    107\u001b[0m \u001b[38;5;28;01mtry\u001b[39;00m:\n\u001b[0;32m--> 108\u001b[0m     \u001b[38;5;28;01mreturn\u001b[39;00m \u001b[43mprojection_registry\u001b[49m\u001b[38;5;241;43m.\u001b[39;49m\u001b[43mget_projection_class\u001b[49m\u001b[43m(\u001b[49m\u001b[43mprojection\u001b[49m\u001b[43m)\u001b[49m\n\u001b[1;32m    109\u001b[0m \u001b[38;5;28;01mexcept\u001b[39;00m \u001b[38;5;167;01mKeyError\u001b[39;00m \u001b[38;5;28;01mas\u001b[39;00m err:\n",
      "File \u001b[0;32m/opt/conda/lib/python3.10/site-packages/matplotlib/projections/__init__.py:75\u001b[0m, in \u001b[0;36mProjectionRegistry.get_projection_class\u001b[0;34m(self, name)\u001b[0m\n\u001b[1;32m     74\u001b[0m \u001b[38;5;124;03m\"\"\"Get a projection class from its *name*.\"\"\"\u001b[39;00m\n\u001b[0;32m---> 75\u001b[0m \u001b[38;5;28;01mreturn\u001b[39;00m \u001b[38;5;28;43mself\u001b[39;49m\u001b[38;5;241;43m.\u001b[39;49m\u001b[43m_all_projection_types\u001b[49m\u001b[43m[\u001b[49m\u001b[43mname\u001b[49m\u001b[43m]\u001b[49m\n",
      "\u001b[0;31mKeyError\u001b[0m: 'line'",
      "\nThe above exception was the direct cause of the following exception:\n",
      "\u001b[0;31mValueError\u001b[0m                                Traceback (most recent call last)",
      "Cell \u001b[0;32mIn[23], line 6\u001b[0m\n\u001b[1;32m      4\u001b[0m y\u001b[38;5;241m=\u001b[39mnp\u001b[38;5;241m.\u001b[39marray([\u001b[38;5;241m0\u001b[39m, \u001b[38;5;241m100\u001b[39m, \u001b[38;5;241m200\u001b[39m, \u001b[38;5;241m300\u001b[39m, \u001b[38;5;241m400\u001b[39m, \u001b[38;5;241m500\u001b[39m])\n\u001b[1;32m      5\u001b[0m fig\u001b[38;5;241m=\u001b[39mplt\u001b[38;5;241m.\u001b[39mfigure()\n\u001b[0;32m----> 6\u001b[0m ax\u001b[38;5;241m=\u001b[39m\u001b[43mfig\u001b[49m\u001b[38;5;241;43m.\u001b[39;49m\u001b[43madd_subplot\u001b[49m\u001b[43m(\u001b[49m\u001b[43mprojection\u001b[49m\u001b[43m \u001b[49m\u001b[38;5;241;43m=\u001b[39;49m\u001b[38;5;124;43m'\u001b[39;49m\u001b[38;5;124;43mline\u001b[39;49m\u001b[38;5;124;43m'\u001b[39;49m\u001b[43m)\u001b[49m\n\u001b[1;32m      7\u001b[0m ax\u001b[38;5;241m.\u001b[39mscatter(x,y)\n\u001b[1;32m      8\u001b[0m plt\u001b[38;5;241m.\u001b[39mshow()\n",
      "File \u001b[0;32m/opt/conda/lib/python3.10/site-packages/matplotlib/figure.py:743\u001b[0m, in \u001b[0;36mFigureBase.add_subplot\u001b[0;34m(self, *args, **kwargs)\u001b[0m\n\u001b[1;32m    740\u001b[0m \u001b[38;5;28;01mif\u001b[39;00m (\u001b[38;5;28mlen\u001b[39m(args) \u001b[38;5;241m==\u001b[39m \u001b[38;5;241m1\u001b[39m \u001b[38;5;129;01mand\u001b[39;00m \u001b[38;5;28misinstance\u001b[39m(args[\u001b[38;5;241m0\u001b[39m], Integral)\n\u001b[1;32m    741\u001b[0m         \u001b[38;5;129;01mand\u001b[39;00m \u001b[38;5;241m100\u001b[39m \u001b[38;5;241m<\u001b[39m\u001b[38;5;241m=\u001b[39m args[\u001b[38;5;241m0\u001b[39m] \u001b[38;5;241m<\u001b[39m\u001b[38;5;241m=\u001b[39m \u001b[38;5;241m999\u001b[39m):\n\u001b[1;32m    742\u001b[0m     args \u001b[38;5;241m=\u001b[39m \u001b[38;5;28mtuple\u001b[39m(\u001b[38;5;28mmap\u001b[39m(\u001b[38;5;28mint\u001b[39m, \u001b[38;5;28mstr\u001b[39m(args[\u001b[38;5;241m0\u001b[39m])))\n\u001b[0;32m--> 743\u001b[0m projection_class, pkw \u001b[38;5;241m=\u001b[39m \u001b[38;5;28;43mself\u001b[39;49m\u001b[38;5;241;43m.\u001b[39;49m\u001b[43m_process_projection_requirements\u001b[49m\u001b[43m(\u001b[49m\n\u001b[1;32m    744\u001b[0m \u001b[43m    \u001b[49m\u001b[38;5;241;43m*\u001b[39;49m\u001b[43margs\u001b[49m\u001b[43m,\u001b[49m\u001b[43m \u001b[49m\u001b[38;5;241;43m*\u001b[39;49m\u001b[38;5;241;43m*\u001b[39;49m\u001b[43mkwargs\u001b[49m\u001b[43m)\u001b[49m\n\u001b[1;32m    745\u001b[0m ax \u001b[38;5;241m=\u001b[39m subplot_class_factory(projection_class)(\u001b[38;5;28mself\u001b[39m, \u001b[38;5;241m*\u001b[39margs, \u001b[38;5;241m*\u001b[39m\u001b[38;5;241m*\u001b[39mpkw)\n\u001b[1;32m    746\u001b[0m key \u001b[38;5;241m=\u001b[39m (projection_class, pkw)\n",
      "File \u001b[0;32m/opt/conda/lib/python3.10/site-packages/matplotlib/figure.py:1677\u001b[0m, in \u001b[0;36mFigureBase._process_projection_requirements\u001b[0;34m(self, axes_class, polar, projection, *args, **kwargs)\u001b[0m\n\u001b[1;32m   1674\u001b[0m     projection \u001b[38;5;241m=\u001b[39m \u001b[38;5;124m'\u001b[39m\u001b[38;5;124mpolar\u001b[39m\u001b[38;5;124m'\u001b[39m\n\u001b[1;32m   1676\u001b[0m \u001b[38;5;28;01mif\u001b[39;00m \u001b[38;5;28misinstance\u001b[39m(projection, \u001b[38;5;28mstr\u001b[39m) \u001b[38;5;129;01mor\u001b[39;00m projection \u001b[38;5;129;01mis\u001b[39;00m \u001b[38;5;28;01mNone\u001b[39;00m:\n\u001b[0;32m-> 1677\u001b[0m     projection_class \u001b[38;5;241m=\u001b[39m \u001b[43mprojections\u001b[49m\u001b[38;5;241;43m.\u001b[39;49m\u001b[43mget_projection_class\u001b[49m\u001b[43m(\u001b[49m\u001b[43mprojection\u001b[49m\u001b[43m)\u001b[49m\n\u001b[1;32m   1678\u001b[0m \u001b[38;5;28;01melif\u001b[39;00m \u001b[38;5;28mhasattr\u001b[39m(projection, \u001b[38;5;124m'\u001b[39m\u001b[38;5;124m_as_mpl_axes\u001b[39m\u001b[38;5;124m'\u001b[39m):\n\u001b[1;32m   1679\u001b[0m     projection_class, extra_kwargs \u001b[38;5;241m=\u001b[39m projection\u001b[38;5;241m.\u001b[39m_as_mpl_axes()\n",
      "File \u001b[0;32m/opt/conda/lib/python3.10/site-packages/matplotlib/projections/__init__.py:110\u001b[0m, in \u001b[0;36mget_projection_class\u001b[0;34m(projection)\u001b[0m\n\u001b[1;32m    108\u001b[0m     \u001b[38;5;28;01mreturn\u001b[39;00m projection_registry\u001b[38;5;241m.\u001b[39mget_projection_class(projection)\n\u001b[1;32m    109\u001b[0m \u001b[38;5;28;01mexcept\u001b[39;00m \u001b[38;5;167;01mKeyError\u001b[39;00m \u001b[38;5;28;01mas\u001b[39;00m err:\n\u001b[0;32m--> 110\u001b[0m     \u001b[38;5;28;01mraise\u001b[39;00m \u001b[38;5;167;01mValueError\u001b[39;00m(\u001b[38;5;124m\"\u001b[39m\u001b[38;5;124mUnknown projection \u001b[39m\u001b[38;5;132;01m%r\u001b[39;00m\u001b[38;5;124m\"\u001b[39m \u001b[38;5;241m%\u001b[39m projection) \u001b[38;5;28;01mfrom\u001b[39;00m \u001b[38;5;21;01merr\u001b[39;00m\n",
      "\u001b[0;31mValueError\u001b[0m: Unknown projection 'line'"
     ]
    },
    {
     "data": {
      "text/plain": [
       "<Figure size 640x480 with 0 Axes>"
      ]
     },
     "metadata": {},
     "output_type": "display_data"
    }
   ],
   "source": [
    "import numpy as np\n",
    "import matplotlib.pyplot as plt\n",
    "x=np.array([0, 1, 2, 3, 4, 5]) \n",
    "y=np.array([0, 100, 200, 300, 400, 500])\n",
    "fig=plt.figure()\n",
    "ax=fig.add_subplot(projection ='line')\n",
    "ax.scatter(x,y)\n",
    "plt.show()"
   ]
  },
  {
   "cell_type": "markdown",
   "id": "6a073beb-def2-4482-a4be-c1d5610f1d6a",
   "metadata": {},
   "source": [
    "Q4: What is a bar plot? Why is it used? Using the following data plot a bar plot and a horizontal bar plot.\n",
    "import numpy as np\n",
    "company = np.array([\"Apple\", \"Microsoft\", \"Google\", \"AMD\"])\n",
    "profit = np.array([3000, 8000, 1000, 10000])\n",
    "Ans:A bar plot, also known as a bar chart, is a graphical representation of categorical data with rectangular bars. In a bar plot, the length or height of each bar is proportional to the frequency, count, or any other aggregated value associated with a particular category.\n",
    "\n",
    "Here's why bar plots are used:\n",
    "\n",
    "Visualizing Categorical Data: Bar plots are excellent for displaying and comparing the frequency, count, or proportion of different categories. They are particularly useful for discrete categories or groups, such as comparing sales by region, counts of various items, or any other qualitative data.\n",
    "\n",
    "Comparison Between Categories: They provide a straightforward way to compare the magnitudes or sizes of different groups or categories. The length or height of the bars directly represents the values associated with each category, making it easy to see and understand relative differences between them.\n",
    "\n",
    "code:\n",
    "    #for bar plot \n",
    "    import numpy as np\n",
    "    import matplotlib.pyplot as plt  \n",
    "    company = np.array([\"Apple\", \"Microsoft\", \"Google\", \"AMD\"])\n",
    "profit = np.array([3000, 8000, 1000, 10000])\n",
    "plt.bar(company,profit)\n",
    "\n",
    "#for horizontal barh \n",
    "plt.barh(company,profit)\n",
    "\n",
    "    \n",
    "    \n"
   ]
  },
  {
   "cell_type": "markdown",
   "id": "70de7ccd-2788-47ee-86dd-73af37317b4f",
   "metadata": {},
   "source": [
    "Q5: What is a box plot? Why is it used? Using the following data plot a box plot.\n",
    "box1 = np.random.normal(100, 10, 200)\n",
    "box2 = np.random.normal(90, 20, 200)\n",
    "Ans:\n",
    "    A box plot, also known as a box-and-whisker plot, is a method of graphically representing the distribution of a dataset. It displays key statistical information including the median, quartiles, and potential outliers within the dataset.\n",
    "\n",
    "The components of a box plot include:\n",
    "\n",
    "Median (Q2): The middle value of the dataset, separating it into two equal halves.\n",
    "\n",
    "Quartiles (Q1 and Q3): The dataset is divided into four equal parts, with Q1 representing the 25th percentile and Q3 representing the 75th percentile. The interquartile range (IQR) is the range between Q1 and Q3.\n",
    "\n",
    "Whiskers: Lines extending from the box indicating variability outside the upper and lower quartiles. They represent the range of the data excluding outliers.\n",
    "\n",
    "Outliers: Individual data points that are significantly distant from the rest of the data and are plotted as individual points.\n",
    "\n",
    "Box plots are used for several purposes:\n",
    "\n",
    "Visualizing Data Distribution: They provide a visual summary of the central tendency, spread, and skewness of the dataset.\n",
    "\n",
    "Identifying Outliers: Box plots can readily identify potential outliers in the dataset, making them helpful for detecting anomalies or extreme values.\n",
    "\n",
    "Comparing Distributions: They allow for easy comparison of distributions between different groups or datasets, aiding in understanding differences in medians, ranges, and overall spread.\n",
    " \n",
    "    \n",
    "    code:\n",
    "        import numpy as np\n",
    "import matplotlib.pyplot as plt\n",
    "        import matplotlib.pyplot as plt\n",
    "box1 = np.random.normal(100, 10, 200)\n",
    "box2 = np.random.normal(90, 20, 200)\n",
    "plt.boxplot(box1,box2)\n",
    "plt.show()\n",
    "        \n",
    "    "
   ]
  },
  {
   "cell_type": "code",
   "execution_count": null,
   "id": "fa256e07-3d26-4a8c-9cd2-73f0bb6a98b7",
   "metadata": {},
   "outputs": [],
   "source": []
  }
 ],
 "metadata": {
  "kernelspec": {
   "display_name": "Python 3 (ipykernel)",
   "language": "python",
   "name": "python3"
  },
  "language_info": {
   "codemirror_mode": {
    "name": "ipython",
    "version": 3
   },
   "file_extension": ".py",
   "mimetype": "text/x-python",
   "name": "python",
   "nbconvert_exporter": "python",
   "pygments_lexer": "ipython3",
   "version": "3.10.8"
  }
 },
 "nbformat": 4,
 "nbformat_minor": 5
}
